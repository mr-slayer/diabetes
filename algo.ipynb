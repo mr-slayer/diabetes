{
 "cells": [
  {
   "cell_type": "code",
   "execution_count": 1,
   "metadata": {},
   "outputs": [
    {
     "name": "stdout",
     "output_type": "stream",
     "text": [
      "0      1\n",
      "100    1\n",
      "50     0\n",
      "Name: Outcome, dtype: int64\n",
      "[1 1 0]\n",
      "1.0\n"
     ]
    }
   ],
   "source": [
    "#general algo\n",
    "\n",
    "import pandas as pd\n",
    "import numpy as n\n",
    "from sklearn import datasets\n",
    "from sklearn import tree\n",
    "#dia=datasets.load_diabetes()\n",
    "dia=pd.read_csv('diabetes.csv')\n",
    "#training data\n",
    "train_target=dia.Outcome\n",
    "#print(train_target.head())\n",
    "dia = dia.drop('Outcome', 1)\n",
    "train_data=dia\n",
    "# #testing data\n",
    "test_idx=[0,100,50]\n",
    "test_target=train_target[test_idx]\n",
    "#print(dia.iloc[test_idx])\n",
    "test_data=dia.iloc[test_idx]\n",
    "clf=tree.DecisionTreeClassifier()\n",
    "clf.fit(train_data,train_target)\n",
    "print(test_target)\n",
    "print(clf.predict(test_data))\n",
    "\n",
    "from sklearn.metrics import accuracy_score\n",
    "print(accuracy_score(test_target,clf.predict(test_data)))\n",
    "\n"
   ]
  },
  {
   "cell_type": "code",
   "execution_count": 37,
   "metadata": {},
   "outputs": [
    {
     "ename": "AttributeError",
     "evalue": "'numpy.float64' object has no attribute 'drop'",
     "output_type": "error",
     "traceback": [
      "\u001b[1;31m---------------------------------------------------------------------------\u001b[0m",
      "\u001b[1;31mAttributeError\u001b[0m                            Traceback (most recent call last)",
      "\u001b[1;32m<ipython-input-37-64cb06740d7c>\u001b[0m in \u001b[0;36m<module>\u001b[1;34m\u001b[0m\n\u001b[0;32m     11\u001b[0m \u001b[1;31m#print(train_target.head())\u001b[0m\u001b[1;33m\u001b[0m\u001b[1;33m\u001b[0m\u001b[1;33m\u001b[0m\u001b[0m\n\u001b[0;32m     12\u001b[0m \u001b[0mdia\u001b[0m \u001b[1;33m=\u001b[0m \u001b[0mdia\u001b[0m\u001b[1;33m[\u001b[0m\u001b[1;34m'Insulin'\u001b[0m\u001b[1;33m]\u001b[0m\u001b[1;33m.\u001b[0m\u001b[0mdropna\u001b[0m\u001b[1;33m(\u001b[0m\u001b[1;33m)\u001b[0m\u001b[1;33m.\u001b[0m\u001b[0mmean\u001b[0m\u001b[1;33m(\u001b[0m\u001b[1;33m)\u001b[0m\u001b[1;33m\u001b[0m\u001b[1;33m\u001b[0m\u001b[0m\n\u001b[1;32m---> 13\u001b[1;33m \u001b[0mdia\u001b[0m \u001b[1;33m=\u001b[0m \u001b[0mdia\u001b[0m\u001b[1;33m.\u001b[0m\u001b[0mdrop\u001b[0m\u001b[1;33m(\u001b[0m\u001b[1;34m'Outcome'\u001b[0m\u001b[1;33m,\u001b[0m \u001b[1;36m1\u001b[0m\u001b[1;33m)\u001b[0m\u001b[1;33m\u001b[0m\u001b[1;33m\u001b[0m\u001b[0m\n\u001b[0m\u001b[0;32m     14\u001b[0m \u001b[0mtrain_data\u001b[0m\u001b[1;33m=\u001b[0m\u001b[0mdia\u001b[0m\u001b[1;33m\u001b[0m\u001b[1;33m\u001b[0m\u001b[0m\n\u001b[0;32m     15\u001b[0m \u001b[1;31m# #testing data\u001b[0m\u001b[1;33m\u001b[0m\u001b[1;33m\u001b[0m\u001b[1;33m\u001b[0m\u001b[0m\n",
      "\u001b[1;31mAttributeError\u001b[0m: 'numpy.float64' object has no attribute 'drop'"
     ]
    }
   ],
   "source": [
    "#for particular data\n",
    "\n",
    "import pandas as pd\n",
    "import numpy as n\n",
    "from sklearn import datasets\n",
    "from sklearn import tree\n",
    "#dia=datasets.load_diabetes()\n",
    "dia=pd.read_csv('diabetes.csv')\n",
    "#training data\n",
    "train_target=dia.Outcome\n",
    "#print(train_target.head())\n",
    "dia = dia['Insulin'].dropna().mean()\n",
    "dia = dia.drop('Outcome', 1)\n",
    "train_data=dia\n",
    "# #testing data\n",
    "test_idx=[0,100,50]\n",
    "test_target=[0]\n",
    "#print(dia.iloc[test_idx])\n",
    "test_data=[[6,148,72,35,0,33,0,50]]\n",
    "clf=tree.DecisionTreeClassifier()\n",
    "clf.fit(train_data,train_target)\n",
    "#print(test_target)\n",
    "print(clf.predict(test_data))\n",
    "\n",
    "from sklearn.metrics import accuracy_score\n",
    "print(accuracy_score(test_target,clf.predict(test_data)))\n",
    "\n"
   ]
  },
  {
   "cell_type": "code",
   "execution_count": 32,
   "metadata": {},
   "outputs": [
    {
     "name": "stdout",
     "output_type": "stream",
     "text": [
      "   Pregnancies  Glucose  BloodPressure  SkinThickness  Insulin   BMI  \\\n",
      "0            6      148             72             35        0  33.6   \n",
      "1            1       85             66             29        0  26.6   \n",
      "2            8      183             64              0        0  23.3   \n",
      "3            1       89             66             23       94  28.1   \n",
      "4            0      137             40             35      168  43.1   \n",
      "\n",
      "   DiabetesPedigreeFunction  Age  \n",
      "0                     0.627   50  \n",
      "1                     0.351   31  \n",
      "2                     0.672   32  \n",
      "3                     0.167   21  \n",
      "4                     2.288   33  \n"
     ]
    }
   ],
   "source": [
    "print(dia.head())"
   ]
  },
  {
   "cell_type": "code",
   "execution_count": 29,
   "metadata": {
    "scrolled": true
   },
   "outputs": [
    {
     "name": "stdout",
     "output_type": "stream",
     "text": [
      "0.6354166666666666\n"
     ]
    }
   ],
   "source": [
    "#train test split\n",
    "\n",
    "import pandas as pd\n",
    "import numpy as n\n",
    "from sklearn import datasets\n",
    "from sklearn import tree\n",
    "#dia=datasets.load_diabetes()\n",
    "dia=pd.read_csv('diabetes.csv')\n",
    "#training data\n",
    "train_target=dia.Outcome\n",
    "#print(train_target.head())\n",
    "dia = dia.drop('Outcome', 1)\n",
    "from sklearn.model_selection import train_test_split\n",
    "x_train,x_test,y_train,y_test=train_test_split(dia,train_target,test_size=.25)\n",
    "clf=tree.DecisionTreeClassifier()\n",
    "clf.fit(x_train,y_train)\n",
    "# print(test_target)\n",
    "#print(clf.predict(x_test))\n",
    "from sklearn.metrics import accuracy_score\n",
    "print(accuracy_score(y_test,clf.predict(x_test)))\n"
   ]
  },
  {
   "cell_type": "code",
   "execution_count": null,
   "metadata": {},
   "outputs": [],
   "source": []
  },
  {
   "cell_type": "code",
   "execution_count": null,
   "metadata": {},
   "outputs": [],
   "source": []
  },
  {
   "cell_type": "code",
   "execution_count": null,
   "metadata": {},
   "outputs": [],
   "source": []
  }
 ],
 "metadata": {
  "kernelspec": {
   "display_name": "Python 3",
   "language": "python",
   "name": "python3"
  },
  "language_info": {
   "codemirror_mode": {
    "name": "ipython",
    "version": 3
   },
   "file_extension": ".py",
   "mimetype": "text/x-python",
   "name": "python",
   "nbconvert_exporter": "python",
   "pygments_lexer": "ipython3",
   "version": "3.7.3"
  }
 },
 "nbformat": 4,
 "nbformat_minor": 2
}
